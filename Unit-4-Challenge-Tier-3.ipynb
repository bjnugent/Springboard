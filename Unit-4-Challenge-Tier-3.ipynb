{
 "cells": [
  {
   "cell_type": "markdown",
   "metadata": {
    "colab_type": "text",
    "id": "Tia3MP1SJpgj"
   },
   "source": [
    "# Springboard Data Science Career Track Unit 4 Challenge - Tier 3 Complete\n",
    "\n",
    "## Objectives\n",
    "Hey! Great job getting through those challenging DataCamp courses. You're learning a lot in a short span of time. \n",
    "\n",
    "In this notebook, you're going to apply the skills you've been learning, bridging the gap between the controlled environment of DataCamp and the *slightly* messier work that data scientists do with actual datasets!\n",
    "\n",
    "Here’s the mystery we’re going to solve: ***which boroughs of London have seen the greatest increase in housing prices, on average, over the last two decades?***\n",
    "\n",
    "\n",
    "A borough is just a fancy word for district. You may be familiar with the five boroughs of New York… well, there are 32 boroughs within Greater London [(here's some info for the curious)](https://en.wikipedia.org/wiki/London_boroughs). Some of them are more desirable areas to live in, and the data will reflect that with a greater rise in housing prices.\n",
    "\n",
    "***This is the Tier 3 notebook, which means it's not filled in at all: we'll just give you the skeleton of a project, the brief and the data. It's up to you to play around with it and see what you can find out! Good luck! If you struggle, feel free to look at easier tiers for help; but try to dip in and out of them, as the more independent work you do, the better it is for your learning!***\n",
    "\n",
    "This challenge will make use of only what you learned in the following DataCamp courses: \n",
    "- Prework courses (Introduction to Python for Data Science, Intermediate Python for Data Science)\n",
    "- Data Types for Data Science\n",
    "- Python Data Science Toolbox (Part One) \n",
    "- pandas Foundations\n",
    "- Manipulating DataFrames with pandas\n",
    "- Merging DataFrames with pandas\n",
    "\n",
    "Of the tools, techniques and concepts in the above DataCamp courses, this challenge should require the application of the following: \n",
    "- **pandas**\n",
    "    - **data ingestion and inspection** (pandas Foundations, Module One) \n",
    "    - **exploratory data analysis** (pandas Foundations, Module Two)\n",
    "    - **tidying and cleaning** (Manipulating DataFrames with pandas, Module Three) \n",
    "    - **transforming DataFrames** (Manipulating DataFrames with pandas, Module One)\n",
    "    - **subsetting DataFrames with lists** (Manipulating DataFrames with pandas, Module One) \n",
    "    - **filtering DataFrames** (Manipulating DataFrames with pandas, Module One) \n",
    "    - **grouping data** (Manipulating DataFrames with pandas, Module Four) \n",
    "    - **melting data** (Manipulating DataFrames with pandas, Module Three) \n",
    "    - **advanced indexing** (Manipulating DataFrames with pandas, Module Four) \n",
    "- **matplotlib** (Intermediate Python for Data Science, Module One)\n",
    "- **fundamental data types** (Data Types for Data Science, Module One) \n",
    "- **dictionaries** (Intermediate Python for Data Science, Module Two)\n",
    "- **handling dates and times** (Data Types for Data Science, Module Four)\n",
    "- **function definition** (Python Data Science Toolbox - Part One, Module One)\n",
    "- **default arguments, variable length, and scope** (Python Data Science Toolbox - Part One, Module Two) \n",
    "- **lambda functions and error handling** (Python Data Science Toolbox - Part One, Module Four) "
   ]
  },
  {
   "cell_type": "markdown",
   "metadata": {
    "colab_type": "text",
    "id": "Ipgd2nV8Jpgl"
   },
   "source": [
    "## The Data Science Pipeline\n",
    "\n",
    "This is Tier Three, so we'll get you started. But after that, it's all in your hands! When you feel done with your investigations, look back over what you've accomplished, and prepare a quick presentation of your findings for the next mentor meeting. \n",
    "\n",
    "Data Science is magical. In this case study, you'll get to apply some complex machine learning algorithms. But as  [David Spiegelhalter](https://www.youtube.com/watch?v=oUs1uvsz0Ok) reminds us, there is no substitute for simply **taking a really, really good look at the data.** Sometimes, this is all we need to answer our question.\n",
    "\n",
    "Data Science projects generally adhere to the four stages of Data Science Pipeline:\n",
    "1. Sourcing and loading \n",
    "2. Cleaning, transforming, and visualizing \n",
    "3. Modeling \n",
    "4. Evaluating and concluding \n"
   ]
  },
  {
   "cell_type": "markdown",
   "metadata": {
    "colab_type": "text",
    "id": "zswDqbefJpgm"
   },
   "source": [
    "### 1. Sourcing and Loading \n",
    "\n",
    "Any Data Science project kicks off by importing  ***pandas***. The documentation of this wonderful library can be found [here](https://pandas.pydata.org/). As you've seen, pandas is conveniently connected to the [Numpy](http://www.numpy.org/) and [Matplotlib](https://matplotlib.org/) libraries. \n",
    "\n",
    "***Hint:*** This part of the data science pipeline will test those skills you acquired in the pandas Foundations course, Module One. "
   ]
  },
  {
   "cell_type": "markdown",
   "metadata": {
    "colab_type": "text",
    "id": "aEau5nEvJpgm"
   },
   "source": [
    "#### 1.1. Importing Libraries"
   ]
  },
  {
   "cell_type": "code",
   "execution_count": 1,
   "metadata": {
    "colab": {},
    "colab_type": "code",
    "id": "7Bt_Q_oPJpgn"
   },
   "outputs": [],
   "source": [
    "# Let's import the pandas, numpy libraries as pd, and np respectively. \n",
    "import pandas as pd\n",
    "import numpy as np\n",
    "\n",
    "# Load the pyplot collection of functions from matplotlib, as plt \n",
    "import matplotlib.pyplot as plt"
   ]
  },
  {
   "cell_type": "markdown",
   "metadata": {
    "colab_type": "text",
    "id": "koUrawxsJpgq"
   },
   "source": [
    "#### 1.2.  Loading the data\n",
    "Your data comes from the [London Datastore](https://data.london.gov.uk/): a free, open-source data-sharing portal for London-oriented datasets. "
   ]
  },
  {
   "cell_type": "code",
   "execution_count": 2,
   "metadata": {
    "colab": {},
    "colab_type": "code",
    "id": "AiLiD4v3Jpgr"
   },
   "outputs": [],
   "source": [
    "# First, make a variable called url_LondonHousePrices, and assign it the following link, enclosed in quotation-marks as a string:\n",
    "# https://data.london.gov.uk/download/uk-house-price-index/70ac0766-8902-4eb5-aab5-01951aaed773/UK%20House%20price%20index.xls\n",
    "\n",
    "url_LondonHousePrices = \"https://data.london.gov.uk/download/uk-house-price-index/70ac0766-8902-4eb5-aab5-01951aaed773/UK%20House%20price%20index.xls\"\n",
    "\n",
    "# The dataset we're interested in contains the Average prices of the houses, and is actually on a particular sheet of the Excel file. \n",
    "# As a result, we need to specify the sheet name in the read_excel() method.\n",
    "# Put this data into a variable called properties.  \n",
    "properties = pd.read_excel(url_LondonHousePrices, sheet_name='Average price', index_col= None)\n",
    "\n"
   ]
  },
  {
   "cell_type": "markdown",
   "metadata": {
    "colab_type": "text",
    "id": "POukEJXgJpgu"
   },
   "source": [
    "### 2. Cleaning, transforming, and visualizing\n",
    "This second stage is arguably the most important part of any Data Science project. The first thing to do is take a proper look at the data. Cleaning forms the majority of this stage, and can be done both before or after Transformation.\n",
    "\n",
    "The end goal of data cleaning is to have tidy data. When data is tidy: \n",
    "\n",
    "1. Each variable has a column.\n",
    "2. Each observation forms a row.\n",
    "\n",
    "Keep the end goal in mind as you move through this process, every step will take you closer. \n",
    "\n",
    "\n",
    "\n",
    "***Hint:*** This part of the data science pipeline should test those skills you acquired in: \n",
    "- Intermediate Python for data science, all modules.\n",
    "- pandas Foundations, all modules. \n",
    "- Manipulating DataFrames with pandas, all modules.\n",
    "- Data Types for Data Science, Module Four.\n",
    "- Python Data Science Toolbox - Part One, all modules"
   ]
  },
  {
   "cell_type": "markdown",
   "metadata": {
    "colab_type": "text",
    "id": "Te0Q548tnzZa"
   },
   "source": [
    "**2.1. Exploring your data** \n",
    "\n",
    "Think about your pandas functions for checking out a dataframe. "
   ]
  },
  {
   "cell_type": "code",
   "execution_count": 3,
   "metadata": {
    "colab": {},
    "colab_type": "code",
    "id": "Rxirxw_qoAJa"
   },
   "outputs": [
    {
     "name": "stdout",
     "output_type": "stream",
     "text": [
      "  Unnamed: 0 City of London Barking & Dagenham       Barnet       Bexley  \\\n",
      "0        NaT      E09000001          E09000002    E09000003    E09000004   \n",
      "1 1995-01-01    91448.98487         50460.2266  93284.51832  64958.09036   \n",
      "2 1995-02-01    82202.77314        51085.77983  93190.16963  64787.92069   \n",
      "3 1995-03-01    79120.70256        51268.96956  92247.52435  64367.49344   \n",
      "4 1995-04-01    77101.20804        53133.50526  90762.87492  64277.66881   \n",
      "\n",
      "         Brent      Bromley       Camden      Croydon       Ealing  ...  \\\n",
      "0    E09000005    E09000006    E09000007    E09000008    E09000009  ...   \n",
      "1  71306.56698  81671.47692  120932.8881  69158.16225  79885.89069  ...   \n",
      "2  72022.26197  81657.55944  119508.8622  68951.09542  80897.06551  ...   \n",
      "3  72015.76274  81449.31143  120282.2131  68712.44341  81379.86288  ...   \n",
      "4  72965.63094  81124.41227   120097.899  68610.04641  82188.90498  ...   \n",
      "\n",
      "    NORTH WEST YORKS & THE HUMBER EAST MIDLANDS WEST MIDLANDS EAST OF ENGLAND  \\\n",
      "0    E12000002          E12000003     E12000004     E12000005       E12000006   \n",
      "1  43958.48001        44803.42878   45544.52227   48527.52339      56701.5961   \n",
      "2  43925.42289        44528.80721   46051.57066   49341.29029     56593.59475   \n",
      "3   44434.8681        45200.46775   45383.82395   49442.17973     56171.18278   \n",
      "4   44267.7796        45614.34341   46124.23045   49455.93299     56567.89582   \n",
      "\n",
      "        LONDON   SOUTH EAST   SOUTH WEST Unnamed: 47      England  \n",
      "0    E12000007    E12000008    E12000009         NaN    E92000001  \n",
      "1  74435.76052  64018.87894   54705.1579         NaN  53202.77128  \n",
      "2  72777.93709  63715.02399  54356.14843         NaN   53096.1549  \n",
      "3  73896.84204  64113.60858  53583.07667         NaN   53201.2843  \n",
      "4  74455.28754  64623.22395  54786.01938         NaN   53590.8548  \n",
      "\n",
      "[5 rows x 49 columns]\n",
      "<class 'pandas.core.frame.DataFrame'>\n",
      "RangeIndex: 336 entries, 0 to 335\n",
      "Data columns (total 49 columns):\n",
      " #   Column                Non-Null Count  Dtype         \n",
      "---  ------                --------------  -----         \n",
      " 0   Unnamed: 0            335 non-null    datetime64[ns]\n",
      " 1   City of London        336 non-null    object        \n",
      " 2   Barking & Dagenham    336 non-null    object        \n",
      " 3   Barnet                336 non-null    object        \n",
      " 4   Bexley                336 non-null    object        \n",
      " 5   Brent                 336 non-null    object        \n",
      " 6   Bromley               336 non-null    object        \n",
      " 7   Camden                336 non-null    object        \n",
      " 8   Croydon               336 non-null    object        \n",
      " 9   Ealing                336 non-null    object        \n",
      " 10  Enfield               336 non-null    object        \n",
      " 11  Greenwich             336 non-null    object        \n",
      " 12  Hackney               336 non-null    object        \n",
      " 13  Hammersmith & Fulham  336 non-null    object        \n",
      " 14  Haringey              336 non-null    object        \n",
      " 15  Harrow                336 non-null    object        \n",
      " 16  Havering              336 non-null    object        \n",
      " 17  Hillingdon            336 non-null    object        \n",
      " 18  Hounslow              336 non-null    object        \n",
      " 19  Islington             336 non-null    object        \n",
      " 20  Kensington & Chelsea  336 non-null    object        \n",
      " 21  Kingston upon Thames  336 non-null    object        \n",
      " 22  Lambeth               336 non-null    object        \n",
      " 23  Lewisham              336 non-null    object        \n",
      " 24  Merton                336 non-null    object        \n",
      " 25  Newham                336 non-null    object        \n",
      " 26  Redbridge             336 non-null    object        \n",
      " 27  Richmond upon Thames  336 non-null    object        \n",
      " 28  Southwark             336 non-null    object        \n",
      " 29  Sutton                336 non-null    object        \n",
      " 30  Tower Hamlets         336 non-null    object        \n",
      " 31  Waltham Forest        336 non-null    object        \n",
      " 32  Wandsworth            336 non-null    object        \n",
      " 33  Westminster           336 non-null    object        \n",
      " 34  Unnamed: 34           0 non-null      float64       \n",
      " 35  Inner London          336 non-null    object        \n",
      " 36  Outer London          336 non-null    object        \n",
      " 37  Unnamed: 37           0 non-null      float64       \n",
      " 38  NORTH EAST            336 non-null    object        \n",
      " 39  NORTH WEST            336 non-null    object        \n",
      " 40  YORKS & THE HUMBER    336 non-null    object        \n",
      " 41  EAST MIDLANDS         336 non-null    object        \n",
      " 42  WEST MIDLANDS         336 non-null    object        \n",
      " 43  EAST OF ENGLAND       336 non-null    object        \n",
      " 44  LONDON                336 non-null    object        \n",
      " 45  SOUTH EAST            336 non-null    object        \n",
      " 46  SOUTH WEST            336 non-null    object        \n",
      " 47  Unnamed: 47           0 non-null      float64       \n",
      " 48  England               336 non-null    object        \n",
      "dtypes: datetime64[ns](1), float64(3), object(45)\n",
      "memory usage: 128.8+ KB\n",
      "None\n"
     ]
    }
   ],
   "source": [
    "# Print head of properties\n",
    "print(properties.head())\n",
    "\n",
    "# Print info of properties\n",
    "print(properties.info())"
   ]
  },
  {
   "cell_type": "markdown",
   "metadata": {
    "colab_type": "text",
    "id": "tE9Sqt9-oAta"
   },
   "source": [
    "**2.2. Cleaning the data**\n",
    "\n",
    "You might find you need to transpose your dataframe, check out what its row indexes are, and reset the index. You  also might find you need to assign the values of the first row to your column headings  . (Hint: recall the .columns feature of DataFrames, as well as the iloc[] method).\n",
    "\n",
    "Don't be afraid to use StackOverflow for help  with this."
   ]
  },
  {
   "cell_type": "code",
   "execution_count": 4,
   "metadata": {
    "colab": {},
    "colab_type": "code",
    "id": "cdAu1A3YoH_r"
   },
   "outputs": [
    {
     "name": "stdout",
     "output_type": "stream",
     "text": [
      "  Unnamed: 0 Barking & Dagenham       Barnet       Bexley        Brent  \\\n",
      "1 1995-01-01         50460.2266  93284.51832  64958.09036  71306.56698   \n",
      "2 1995-02-01        51085.77983  93190.16963  64787.92069  72022.26197   \n",
      "3 1995-03-01        51268.96956  92247.52435  64367.49344  72015.76274   \n",
      "4 1995-04-01        53133.50526  90762.87492  64277.66881  72965.63094   \n",
      "5 1995-05-01        53042.24852  90258.00033  63997.13588  73704.04743   \n",
      "\n",
      "       Bromley       Camden      Croydon       Ealing      Enfield  ...  \\\n",
      "1  81671.47692  120932.8881  69158.16225  79885.89069  72514.69096  ...   \n",
      "2  81657.55944  119508.8622  68951.09542  80897.06551  73155.19746  ...   \n",
      "3  81449.31143  120282.2131  68712.44341  81379.86288  72190.44144  ...   \n",
      "4  81124.41227   120097.899  68610.04641  82188.90498  71442.92235  ...   \n",
      "5  81542.61561  119929.2782   68844.9169  82077.05525  70630.77955  ...   \n",
      "\n",
      "        Merton       Newham    Redbridge Richmond upon Thames    Southwark  \\\n",
      "1   82070.6133  53539.31919  72189.58437          109326.1245  67885.20344   \n",
      "2  79982.74872  53153.88306   72141.6261          111103.0394   64799.0648   \n",
      "3  80661.68279  53458.26393  72501.35502          107325.4742  65763.29719   \n",
      "4  79990.54333  54479.75395  72228.60295               106875  63073.62117   \n",
      "5  80873.98643  55803.95958  72366.64122          107707.6799  64420.49933   \n",
      "\n",
      "        Sutton Tower Hamlets Waltham Forest   Wandsworth  Westminster  \n",
      "1  71536.97357   59865.18995    61319.44913  88559.04381  133025.2772  \n",
      "2  70893.20851   62318.53353    60252.12246  88641.01678  131468.3096  \n",
      "3  70306.83844   63938.67686    60871.08493  87124.81523  132260.3417  \n",
      "4   69411.9439   66233.19383    60971.39722  87026.00225  133370.2036  \n",
      "5  69759.21989   66432.85846    61494.16938  86518.05945  133911.1117  \n",
      "\n",
      "[5 rows x 33 columns]\n"
     ]
    }
   ],
   "source": [
    "# Variables are all in columns, no index is set, column names are already assigned\n",
    "\n",
    "# Storing and dropping postal codes (row 1)\n",
    "postal_codes = properties.iloc[0,:]\n",
    "properties_no_code = properties.drop(0)\n",
    "\n",
    "# Drop columns outside of London Boroughs (col34-48)\n",
    "properties_boroughs = properties_no_code.drop(properties_no_code.iloc[:, 34:], axis=1)\n",
    "\n",
    "# Drop City of London (col1)\n",
    "properties_boroughs = properties_boroughs.drop('City of London', axis=1)\n",
    "print(properties_boroughs.head())"
   ]
  },
  {
   "cell_type": "markdown",
   "metadata": {
    "colab_type": "text",
    "id": "o1uLbJAsoIjK"
   },
   "source": [
    "**2.3. Cleaning the data (part 2)**\n",
    "\n",
    "You might we have to **rename** a couple columns. How do you do this? The clue's pretty bold..."
   ]
  },
  {
   "cell_type": "code",
   "execution_count": 5,
   "metadata": {
    "colab": {},
    "colab_type": "code",
    "id": "GKkmn1AnoVZS"
   },
   "outputs": [
    {
     "name": "stdout",
     "output_type": "stream",
     "text": [
      "       month Barking & Dagenham       Barnet       Bexley        Brent  \\\n",
      "1 1995-01-01         50460.2266  93284.51832  64958.09036  71306.56698   \n",
      "2 1995-02-01        51085.77983  93190.16963  64787.92069  72022.26197   \n",
      "3 1995-03-01        51268.96956  92247.52435  64367.49344  72015.76274   \n",
      "4 1995-04-01        53133.50526  90762.87492  64277.66881  72965.63094   \n",
      "5 1995-05-01        53042.24852  90258.00033  63997.13588  73704.04743   \n",
      "\n",
      "       Bromley       Camden      Croydon       Ealing      Enfield  ...  \\\n",
      "1  81671.47692  120932.8881  69158.16225  79885.89069  72514.69096  ...   \n",
      "2  81657.55944  119508.8622  68951.09542  80897.06551  73155.19746  ...   \n",
      "3  81449.31143  120282.2131  68712.44341  81379.86288  72190.44144  ...   \n",
      "4  81124.41227   120097.899  68610.04641  82188.90498  71442.92235  ...   \n",
      "5  81542.61561  119929.2782   68844.9169  82077.05525  70630.77955  ...   \n",
      "\n",
      "        Merton       Newham    Redbridge Richmond upon Thames    Southwark  \\\n",
      "1   82070.6133  53539.31919  72189.58437          109326.1245  67885.20344   \n",
      "2  79982.74872  53153.88306   72141.6261          111103.0394   64799.0648   \n",
      "3  80661.68279  53458.26393  72501.35502          107325.4742  65763.29719   \n",
      "4  79990.54333  54479.75395  72228.60295               106875  63073.62117   \n",
      "5  80873.98643  55803.95958  72366.64122          107707.6799  64420.49933   \n",
      "\n",
      "        Sutton Tower Hamlets Waltham Forest   Wandsworth  Westminster  \n",
      "1  71536.97357   59865.18995    61319.44913  88559.04381  133025.2772  \n",
      "2  70893.20851   62318.53353    60252.12246  88641.01678  131468.3096  \n",
      "3  70306.83844   63938.67686    60871.08493  87124.81523  132260.3417  \n",
      "4   69411.9439   66233.19383    60971.39722  87026.00225  133370.2036  \n",
      "5  69759.21989   66432.85846    61494.16938  86518.05945  133911.1117  \n",
      "\n",
      "[5 rows x 33 columns]\n"
     ]
    }
   ],
   "source": [
    "# Rename 'Unnamed: 0' as 'month'\n",
    "properties_renamed = properties_boroughs.rename(columns={'Unnamed: 0':'month'})\n",
    "print(properties_renamed.head())"
   ]
  },
  {
   "cell_type": "markdown",
   "metadata": {
    "colab_type": "text",
    "id": "jy8BzXHmoWEw"
   },
   "source": [
    "**2.4.Transforming the data**\n",
    "\n",
    "Remember what Wes McKinney said about tidy data? \n",
    "\n",
    "You might need to **melt** your DataFrame here. "
   ]
  },
  {
   "cell_type": "code",
   "execution_count": 6,
   "metadata": {
    "colab": {},
    "colab_type": "code",
    "id": "S2wM0qLuo2Zt"
   },
   "outputs": [
    {
     "name": "stdout",
     "output_type": "stream",
     "text": [
      "       month             borough    avg_price\n",
      "0 1995-01-01  Barking & Dagenham   50460.2266\n",
      "1 1995-02-01  Barking & Dagenham  51085.77983\n",
      "2 1995-03-01  Barking & Dagenham  51268.96956\n",
      "3 1995-04-01  Barking & Dagenham  53133.50526\n",
      "4 1995-05-01  Barking & Dagenham  53042.24852\n"
     ]
    }
   ],
   "source": [
    "# Melt data with burough as variable\n",
    "properties_tall = properties_renamed.melt(id_vars='month',var_name='borough',value_name='avg_price')\n",
    "print(properties_tall.head())"
   ]
  },
  {
   "cell_type": "markdown",
   "metadata": {
    "colab_type": "text",
    "id": "7kIsgAo7o3mf"
   },
   "source": [
    "Remember to make sure your column data types are all correct. Average prices, for example, should be floating point numbers... "
   ]
  },
  {
   "cell_type": "code",
   "execution_count": 7,
   "metadata": {
    "colab": {},
    "colab_type": "code",
    "id": "ZcR4IHbcpOaq"
   },
   "outputs": [
    {
     "name": "stdout",
     "output_type": "stream",
     "text": [
      "<class 'pandas.core.frame.DataFrame'>\n",
      "RangeIndex: 10720 entries, 0 to 10719\n",
      "Data columns (total 3 columns):\n",
      " #   Column     Non-Null Count  Dtype         \n",
      "---  ------     --------------  -----         \n",
      " 0   month      10720 non-null  datetime64[ns]\n",
      " 1   borough    10720 non-null  object        \n",
      " 2   avg_price  10720 non-null  float64       \n",
      "dtypes: datetime64[ns](1), float64(1), object(1)\n",
      "memory usage: 251.4+ KB\n",
      "None\n"
     ]
    }
   ],
   "source": [
    "# convert avg_price from Dtype object to float\n",
    "properties_tall['avg_price'] = pd.to_numeric(properties_tall['avg_price'])\n",
    "print(properties_tall.info())"
   ]
  },
  {
   "cell_type": "markdown",
   "metadata": {
    "colab_type": "text",
    "id": "knLUXHLypOtw"
   },
   "source": [
    "**2.5. Cleaning the data (part 3)**\n",
    "\n",
    "Do we have an equal number of observations in the ID, Average Price, Month, and London Borough columns? Remember that there are only 32 London Boroughs. How many entries do you have in that column? \n",
    "\n",
    "Check out the contents of the London Borough column, and if you find null values, get rid of them however you see fit. "
   ]
  },
  {
   "cell_type": "code",
   "execution_count": 8,
   "metadata": {
    "colab": {},
    "colab_type": "code",
    "id": "BnvTW5a3p0fC"
   },
   "outputs": [
    {
     "name": "stdout",
     "output_type": "stream",
     "text": [
      "month        10720\n",
      "borough      10720\n",
      "avg_price    10720\n",
      "dtype: int64\n",
      "month          335\n",
      "borough         32\n",
      "avg_price    10720\n",
      "dtype: int64\n",
      "borough\n",
      "Barking & Dagenham      335\n",
      "Barnet                  335\n",
      "Wandsworth              335\n",
      "Waltham Forest          335\n",
      "Tower Hamlets           335\n",
      "Sutton                  335\n",
      "Southwark               335\n",
      "Richmond upon Thames    335\n",
      "Redbridge               335\n",
      "Newham                  335\n",
      "Merton                  335\n",
      "Lewisham                335\n",
      "Lambeth                 335\n",
      "Kingston upon Thames    335\n",
      "Kensington & Chelsea    335\n",
      "Islington               335\n",
      "Hounslow                335\n",
      "Hillingdon              335\n",
      "Havering                335\n",
      "Harrow                  335\n",
      "Haringey                335\n",
      "Hammersmith & Fulham    335\n",
      "Hackney                 335\n",
      "Greenwich               335\n",
      "Enfield                 335\n",
      "Ealing                  335\n",
      "Croydon                 335\n",
      "Camden                  335\n",
      "Bromley                 335\n",
      "Brent                   335\n",
      "Bexley                  335\n",
      "Westminster             335\n",
      "dtype: int64\n",
      "       month             borough    avg_price\n",
      "0 1995-01-01  Barking & Dagenham  50460.22660\n",
      "1 1995-02-01  Barking & Dagenham  51085.77983\n",
      "2 1995-03-01  Barking & Dagenham  51268.96956\n",
      "3 1995-04-01  Barking & Dagenham  53133.50526\n",
      "4 1995-05-01  Barking & Dagenham  53042.24852\n",
      "<class 'pandas.core.frame.DataFrame'>\n",
      "RangeIndex: 10720 entries, 0 to 10719\n",
      "Data columns (total 3 columns):\n",
      " #   Column     Non-Null Count  Dtype         \n",
      "---  ------     --------------  -----         \n",
      " 0   month      10720 non-null  datetime64[ns]\n",
      " 1   borough    10720 non-null  object        \n",
      " 2   avg_price  10720 non-null  float64       \n",
      "dtypes: datetime64[ns](1), float64(1), object(1)\n",
      "memory usage: 251.4+ KB\n",
      "None\n"
     ]
    }
   ],
   "source": [
    "# Check equal number of observations for each variable\n",
    "print(properties_tall.count())\n",
    "\n",
    "# Check unique count of borough column\n",
    "print(properties_tall.nunique(axis=0))\n",
    "\n",
    "# Confirm correct boroughs are in borough column\n",
    "print(properties_tall.value_counts(subset='borough'))\n",
    "\n",
    "# Rename cleaned data\n",
    "properties_clean = properties_tall\n",
    "\n",
    "# Check head and info of clean data\n",
    "print(properties_clean.head())\n",
    "print(properties_clean.info())"
   ]
  },
  {
   "cell_type": "markdown",
   "metadata": {
    "colab_type": "text",
    "id": "PGEx6mJsp6dG"
   },
   "source": [
    "**2.6. Visualizing the data**\n",
    "\n",
    "To visualize the data, why not subset on a particular London Borough? Maybe do a line plot of Month against Average Price?"
   ]
  },
  {
   "cell_type": "code",
   "execution_count": 9,
   "metadata": {
    "colab": {},
    "colab_type": "code",
    "id": "nAg5pT9cqHAR"
   },
   "outputs": [
    {
     "data": {
      "image/png": "[encoded data removed]",
      "text/plain": [
       "<Figure size 640x480 with 1 Axes>"
      ]
     },
     "metadata": {},
     "output_type": "display_data"
    }
   ],
   "source": [
    "# Subset Camden borough\n",
    "properties_camden = properties_clean[properties_clean['borough']=='Camden']\n",
    "\n",
    "# Create line plot of month vs avg_price for Camden borough\n",
    "properties_camden.plot(x='month', y='avg_price', kind='line')\n",
    "plt.show()"
   ]
  },
  {
   "cell_type": "markdown",
   "metadata": {
    "colab_type": "text",
    "id": "aWTPqSJeqHnC"
   },
   "source": [
    "To limit the number of data points you have, you might want to extract the year from every month value your *Month* column. \n",
    "\n",
    "To this end, you *could* apply a ***lambda function***. Your logic could work as follows:\n",
    "1. look through the `Month` column\n",
    "2. extract the year from each individual value in that column \n",
    "3. store that corresponding year as separate column. \n",
    "\n",
    "Whether you go ahead with this is up to you. Just so long as you answer our initial brief: which boroughs of London have seen the greatest house price increase, on average, over the past two decades? "
   ]
  },
  {
   "cell_type": "code",
   "execution_count": 10,
   "metadata": {
    "colab": {},
    "colab_type": "code",
    "id": "e0DF92cyqnu8"
   },
   "outputs": [
    {
     "name": "stdout",
     "output_type": "stream",
     "text": [
      "       month             borough    avg_price  year\n",
      "0 1995-01-01  Barking & Dagenham  50460.22660  1995\n",
      "1 1995-02-01  Barking & Dagenham  51085.77983  1995\n",
      "2 1995-03-01  Barking & Dagenham  51268.96956  1995\n",
      "3 1995-04-01  Barking & Dagenham  53133.50526  1995\n",
      "4 1995-05-01  Barking & Dagenham  53042.24852  1995\n"
     ]
    }
   ],
   "source": [
    "# Import datetime\n",
    "from datetime import datetime\n",
    "\n",
    "# Extract year from month column\n",
    "properties_clean['year'] = properties_clean['month'].dt.year\n",
    "print(properties_clean.head())"
   ]
  },
  {
   "cell_type": "markdown",
   "metadata": {
    "colab_type": "text",
    "id": "2knuTxAEqoJ4"
   },
   "source": [
    "**3. Modeling**\n",
    "\n",
    "Consider creating a function that will calculate a ratio of house prices, comparing the price of a house in 2018 to the price in 1998.\n",
    "\n",
    "Consider calling this function create_price_ratio.\n",
    "\n",
    "You'd want this function to:\n",
    "1. Take a filter of dfg, specifically where this filter constrains the London_Borough, as an argument. For example, one admissible argument should be: dfg[dfg['London_Borough']=='Camden'].\n",
    "2. Get the Average Price for that Borough, for the years 1998 and 2018.\n",
    "4. Calculate the ratio of the Average Price for 1998 divided by the Average Price for 2018.\n",
    "5. Return that ratio.\n",
    "\n",
    "Once you've written this function, you ultimately want to use it to iterate through all the unique London_Boroughs and work out the ratio capturing the difference of house prices between 1998 and 2018.\n",
    "\n",
    "Bear in mind: you don't have to write a function like this if you don't want to. If you can solve the brief otherwise, then great! \n",
    "\n",
    "***Hint***: This section should test the skills you acquired in:\n",
    "- Python Data Science Toolbox - Part One, all modules"
   ]
  },
  {
   "cell_type": "code",
   "execution_count": 22,
   "metadata": {
    "colab": {},
    "colab_type": "code",
    "id": "cKTyr437UgDa"
   },
   "outputs": [
    {
     "data": {
      "image/png": "[encoded data removed]",
      "text/plain": [
       "<Figure size 640x480 with 1 Axes>"
      ]
     },
     "metadata": {},
     "output_type": "display_data"
    },
    {
     "name": "stdout",
     "output_type": "stream",
     "text": [
      "Top 5 Boroughs with Largest House Price Increase:\n",
      "                price ratio\n",
      "borough                    \n",
      "Hackney            6.606181\n",
      "Westminster        6.216936\n",
      "Waltham Forest     6.078388\n",
      "Southwark          5.970622\n",
      "Lewisham           5.626383\n"
     ]
    }
   ],
   "source": [
    "# Create function\n",
    "def create_price_ratio(borough):\n",
    "    \"\"\"Takes the ratio of the average price in a specific borough from 1998 to 2018\"\"\"\n",
    "    df_filter = properties_clean[properties_clean['borough']==borough] # Filters for the borough input\n",
    "    avg_price_1998 = df_filter['avg_price'].loc[df_filter['month']=='1998-01-01'].iloc[0] # Selects the avg_price in 1998\n",
    "    avg_price_2018 = df_filter['avg_price'].loc[df_filter['month']=='2018-01-01'].iloc[0] # Selects the avg_price in 2018\n",
    "    price_ratio = avg_price_2018 / avg_price_1998 # Divides the prices for the ratio of how prices have increased\n",
    "    return price_ratio\n",
    "\n",
    "# Iterate through all boroughs\n",
    "\n",
    "# Get unique boroughs\n",
    "unique_boroughs = properties_clean['borough'].unique()\n",
    "\n",
    "# Initiate price ratio list\n",
    "price_ratios = []\n",
    "\n",
    "# Iterate through unique boroughs and append price ratio list\n",
    "for borough in unique_boroughs:\n",
    "    borough_price_ratio = create_price_ratio(borough)\n",
    "    price_ratios.append(borough_price_ratio)\n",
    "\n",
    "# Create dictionary and dataframe for results\n",
    "results = {\n",
    "    'borough': unique_boroughs,\n",
    "    'price ratio': price_ratios\n",
    "}\n",
    "results_df = pd.DataFrame(results)\n",
    "results_df_ind = results_df.set_index('borough')\n",
    "\n",
    "# Sort results by price ratio, descending\n",
    "results_sorted = results_df_ind.sort_values('price ratio',ascending=False)\n",
    "\n",
    "# Create bar chart\n",
    "results_sorted.plot(kind='bar', title='Average House Price Increase from 1998 to 2018 for London Boroughs',xlabel='London Borough')\n",
    "plt.show()\n",
    "\n",
    "# print top 5 most increased\n",
    "print('Top 5 Boroughs with Largest House Price Increase:')\n",
    "print(results_sorted.head(5))\n"
   ]
  },
  {
   "cell_type": "markdown",
   "metadata": {
    "colab_type": "text",
    "id": "NzYUI7FxJpgv"
   },
   "source": [
    "### 4. Conclusion\n",
    "What can you conclude? Type out your conclusion below. \n",
    "\n",
    "Look back at your notebook. Think about how you might summarize what you have done, and prepare a quick presentation on it to your mentor at your next meeting. \n",
    "\n",
    "We hope you enjoyed this practical project. It should have consolidated your data hygiene and pandas skills by looking at a real-world problem involving just the kind of dataset you might encounter as a budding data scientist. Congratulations, and looking forward to seeing you at the next step in the course! "
   ]
  },
  {
   "cell_type": "markdown",
   "metadata": {},
   "source": [
    "While house prices in all London boroughs have increased from 1998 to 2018 by at least four times, the house prices increased the most on average in Hackney, Westminster, Waltham Forest, Southwark, and Lewisham, as shown in the graph and table above. Hackney had the greatest increase with the average house price in 2018 being over 6.6 times that in 1998. As average house price increases indicate desirability to live in, these five boroughs are the most desirable areas to own a home in London, with Hackney being the most desirable borough in London."
   ]
  }
 ],
 "metadata": {
  "colab": {
   "collapsed_sections": [],
   "name": "Springboard Data Science Career Track Unit 4 Challenge - Tier 3 Complete .ipynb",
   "provenance": []
  },
  "kernelspec": {
   "display_name": "Python 3 (ipykernel)",
   "language": "python",
   "name": "python3"
  },
  "language_info": {
   "codemirror_mode": {
    "name": "ipython",
    "version": 3
   },
   "file_extension": ".py",
   "mimetype": "text/x-python",
   "name": "python",
   "nbconvert_exporter": "python",
   "pygments_lexer": "ipython3",
   "version": "3.9.13"
  }
 },
 "nbformat": 4,
 "nbformat_minor": 1
}
